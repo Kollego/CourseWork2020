{
 "cells": [
  {
   "cell_type": "code",
   "execution_count": 28,
   "metadata": {},
   "outputs": [],
   "source": [
    "import json\n",
    "from os import listdir\n",
    "from os.path import join\n",
    "import re"
   ]
  },
  {
   "cell_type": "markdown",
   "metadata": {},
   "source": [
    "## Сбор данных"
   ]
  },
  {
   "cell_type": "markdown",
   "metadata": {},
   "source": [
    "### по-одному документу "
   ]
  },
  {
   "cell_type": "code",
   "execution_count": 23,
   "metadata": {},
   "outputs": [],
   "source": [
    "topic = '«Память неподвластна времени»'"
   ]
  },
  {
   "cell_type": "code",
   "execution_count": 25,
   "metadata": {},
   "outputs": [],
   "source": [
    "text = '''Кто сказал, что время лечит? Многие живут иллюзиями, надеясь на то, что\n",
    "время излечит их раненую душу. Говорят, что со временем боль утихает. Но\n",
    "это всего лишь кажется. Вся правда в том, что ты просто свыкаешься с этой\n",
    "болью. А сердце всё помнит и украдкой сжимается от воспоминаний, не\n",
    "позволяя тебе смириться. Воспоминания заставляют человека вернуться в\n",
    "прошлое. Время проходит, но то, что осталось в памяти, стереть невозможно.\n",
    "Данный вопрос не раз упоминался в художественной литературе.\n",
    "Обратимся к рассказу И. А. Бунина «Тёмные аллеи», который доказывает,\n",
    "что память неподвластна времени. Герои произведения предстают перед\n",
    "нами совсем одинокими. Когда-то они испытывали друг к другу прекрасное\n",
    "чувство. Но Николай Алексеевич предал Надежду, отказавшись от её любви.\n",
    "С тех пор прошло много времени, и теперь каждый живёт своей жизнью. Но\n",
    "любовь героини не умерла, а по-прежнему живёт в её сердце. Но несмотря на\n",
    "долгие годы, прожитые в одиночестве одной лишь любовью, Наталья не\n",
    "смогла забыть ту боль, которую предательски причинил ей тот, мыслям о\n",
    "котором Наталья посвятила свою жизнь. Встретившись с возлюбленным\n",
    "после долгой разлуки, героиня так и не смогла простить Николеньку, потому\n",
    "что её любящее сердце навечно запомнило то, что так сильно оскорбило её.\n",
    "В качестве второго аргумента хочу привести ещё один рассказ Ивана\n",
    "Алексеевича «Холодная осень». В данном произведении основную часть\n",
    "занимает осенний вечер, который оставил свой след в памяти рассказчицы.\n",
    "Тот вечер запомнился ей последними словами, сказанными её\n",
    "возлюбленным: «Ты поживи, порадуйся на свете, потом приходи ко мне…»\n",
    "Героиня горько заплакала, убеждая его в том, что не переживёт его смерти.\n",
    "Но, как оказалось, после его смерти жизнь была возможна. Спустя время\n",
    "героиня многое пережила за свою жизнь, кажущуюся такой долгой, когда\n",
    "перебираешь в памяти все прожитые годы. Вспоминая и задаваясь вопросом\n",
    "о том, что же было в её жизни, героиня вдруг поняла, что все годы были\n",
    "ненужным и непонятным сном. А тот самый холодный вечер – это всё, что\n",
    "было в жизни рассказчицы.\n",
    "В точение времени мы можем потерять что-то ценное или, что остаётся\n",
    "только воспоминаниями. Но именно память – это единственная ценность,\n",
    "которую невозможно потерять или стереть. И именно она заставляет\n",
    "человека на миг вернуться в прошлое, каким бы оно ни было…\n",
    "'''"
   ]
  },
  {
   "cell_type": "code",
   "execution_count": 100,
   "metadata": {},
   "outputs": [],
   "source": [
    "def save_writing_to_json(path, writing):\n",
    "    files = listdir(path)\n",
    "    n = 0\n",
    "    for file in files:\n",
    "        r = re.compile('writing(\\d+)\\.json')\n",
    "        new_n = int(r.match(file).group(1))\n",
    "        if new_n - n > 1:\n",
    "            break\n",
    "        n = new_n\n",
    "    n += 1\n",
    "    name = 'writing' + str(n).zfill(6) + '.json'\n",
    "    with open(join(path, name), 'w', encoding='utf-8') as output:\n",
    "        json.dump(writing, output, indent=4, ensure_ascii=False)"
   ]
  },
  {
   "cell_type": "code",
   "execution_count": 54,
   "metadata": {},
   "outputs": [],
   "source": [
    "path = 'data'"
   ]
  },
  {
   "cell_type": "code",
   "execution_count": 28,
   "metadata": {},
   "outputs": [],
   "source": [
    "writing = {}\n",
    "writing['topic'] = topic\n",
    "writing['text'] = text\n",
    "save_writing_to_json(path, writing)"
   ]
  },
  {
   "cell_type": "markdown",
   "metadata": {},
   "source": [
    "### Парсинг сайтов"
   ]
  },
  {
   "cell_type": "code",
   "execution_count": 38,
   "metadata": {},
   "outputs": [],
   "source": [
    "import requests\n",
    "from bs4 import BeautifulSoup"
   ]
  },
  {
   "cell_type": "code",
   "execution_count": 96,
   "metadata": {},
   "outputs": [],
   "source": [
    "page_url = 'https://sochinenie11.ru/primeri/'\n",
    "writings_list = []\n",
    "\n",
    "for i in range(8):\n",
    "    i = i + 1\n",
    "    response = requests.get(page_url)\n",
    "    page_tree = BeautifulSoup(response.content, 'html.parser')\n",
    "    subpages_url = [subpage.find('a')['href'] for subpage in page_tree.find_all('h2', {'class' : 'ssil'})]\n",
    "    for sp_url in subpages_url:\n",
    "        response = requests.get(sp_url)\n",
    "        subpage_tree = BeautifulSoup(response.content, 'html.parser')\n",
    "        if subpage_tree.find('div', {'class' : 'quote'}):\n",
    "            pass\n",
    "        elif subpage_tree.find('span', {'class' : 'attachment'}):\n",
    "            pass\n",
    "        else:\n",
    "            topic = subpage_tree.find('h1', {'class' : 'ssil11'}).text\n",
    "            text = subpage_tree.find('div', {'class' : 'otstup'}).text\n",
    "            text = re.sub(r'Направление «.{1,30}»\\.', '', text)\n",
    "            writings_list.append({'topic':topic, 'text': text})\n",
    "    if i != 8:\n",
    "        page_url = page_tree.find('a', {'class':'button215'})['href']"
   ]
  },
  {
   "cell_type": "code",
   "execution_count": 97,
   "metadata": {},
   "outputs": [
    {
     "data": {
      "text/plain": [
       "43"
      ]
     },
     "execution_count": 97,
     "metadata": {},
     "output_type": "execute_result"
    }
   ],
   "source": [
    "len(writings_list)"
   ]
  },
  {
   "cell_type": "code",
   "execution_count": 101,
   "metadata": {},
   "outputs": [],
   "source": [
    "for writing in writings_list:\n",
    "    save_writing_to_json(path, writing)"
   ]
  }
 ],
 "metadata": {
  "kernelspec": {
   "display_name": "Python 3",
   "language": "python",
   "name": "python3"
  },
  "language_info": {
   "codemirror_mode": {
    "name": "ipython",
    "version": 3
   },
   "file_extension": ".py",
   "mimetype": "text/x-python",
   "name": "python",
   "nbconvert_exporter": "python",
   "pygments_lexer": "ipython3",
   "version": "3.7.2"
  }
 },
 "nbformat": 4,
 "nbformat_minor": 2
}
