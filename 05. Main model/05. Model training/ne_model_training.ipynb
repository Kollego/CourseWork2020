{
 "cells": [
  {
   "cell_type": "code",
   "execution_count": 1,
   "metadata": {},
   "outputs": [],
   "source": [
    "import pickle\n",
    "import numpy as np\n",
    "from os.path import join\n",
    "\n",
    "from sklearn.svm import OneClassSVM"
   ]
  },
  {
   "cell_type": "code",
   "execution_count": 2,
   "metadata": {},
   "outputs": [],
   "source": [
    "path = '..\\\\03. Corr matrix creation\\\\Pickles'\n",
    "\n",
    "with open(join(path, 'named_entity_matrix.pickle'), 'rb') as data:\n",
    "    named_entity_matrix = pickle.load(data)  \n",
    "\n",
    "with open(join(path, 'corr_matrix.pickle'), 'rb') as data:\n",
    "    corr_matrix = pickle.load(data) \n",
    "    \n",
    "with open(join(path, 'direction_matrix.pickle'), 'rb') as data:\n",
    "    direction_matrix = pickle.load(data)    "
   ]
  },
  {
   "cell_type": "code",
   "execution_count": 3,
   "metadata": {},
   "outputs": [
    {
     "name": "stdout",
     "output_type": "stream",
     "text": [
      "(179, 216)\n",
      "(210, 216)\n",
      "(179, 210)\n",
      "(179, 210)\n"
     ]
    }
   ],
   "source": [
    "D = direction_matrix.dot(corr_matrix.T)\n",
    "print(direction_matrix.shape)\n",
    "print(corr_matrix.shape)\n",
    "print(D.shape)\n",
    "\n",
    "X = np.multiply(named_entity_matrix, D)\n",
    "print(X.shape)"
   ]
  },
  {
   "cell_type": "code",
   "execution_count": 4,
   "metadata": {},
   "outputs": [
    {
     "data": {
      "text/plain": [
       "OneClassSVM(cache_size=200, coef0=0.0, degree=3, gamma='scale', kernel='rbf',\n",
       "            max_iter=-1, nu=0.01, random_state=None, shrinking=True, tol=0.001,\n",
       "            verbose=False)"
      ]
     },
     "execution_count": 4,
     "metadata": {},
     "output_type": "execute_result"
    }
   ],
   "source": [
    "svc = OneClassSVM(gamma='scale', nu=0.01)\n",
    "svc.fit(X)"
   ]
  },
  {
   "cell_type": "code",
   "execution_count": 5,
   "metadata": {},
   "outputs": [],
   "source": [
    "with open('Pickles\\\\svc_named_entity.pickle', 'wb') as output:\n",
    "    pickle.dump(svc, output)"
   ]
  }
 ],
 "metadata": {
  "kernelspec": {
   "display_name": "Python 3",
   "language": "python",
   "name": "python3"
  },
  "language_info": {
   "codemirror_mode": {
    "name": "ipython",
    "version": 3
   },
   "file_extension": ".py",
   "mimetype": "text/x-python",
   "name": "python",
   "nbconvert_exporter": "python",
   "pygments_lexer": "ipython3",
   "version": "3.7.2"
  }
 },
 "nbformat": 4,
 "nbformat_minor": 2
}
