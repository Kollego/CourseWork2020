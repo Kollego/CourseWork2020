{
 "cells": [
  {
   "cell_type": "code",
   "execution_count": 26,
   "metadata": {},
   "outputs": [],
   "source": [
    "import pickle\n",
    "import numpy as np\n",
    "from os.path import join\n",
    "\n",
    "from sklearn.ensemble import RandomForestClassifier\n",
    "from sklearn import svm"
   ]
  },
  {
   "cell_type": "code",
   "execution_count": 11,
   "metadata": {},
   "outputs": [],
   "source": [
    "path = '..\\\\04. Feature Engineering\\\\Pickles\\\\'\n",
    "path_df = join(path, 'df.pickle')\n",
    "with open(path_df, 'rb') as data:\n",
    "    df = pickle.load(data)\n",
    "\n",
    "# features_train\n",
    "path_features_train = join(path, 'features_train.pickle')\n",
    "with open(path_features_train, 'rb') as data:\n",
    "    features_train = pickle.load(data)\n",
    "\n",
    "# labels_train\n",
    "path_labels_train = join(path, 'labels_train.pickle')\n",
    "with open(path_labels_train, 'rb') as data:\n",
    "    labels_train = pickle.load(data)\n",
    "\n",
    "# features_test\n",
    "path_features_test = join(path, 'features_test.pickle')\n",
    "with open(path_features_test, 'rb') as data:\n",
    "    features_test = pickle.load(data)\n",
    "\n",
    "# labels_test\n",
    "path_labels_test = join(path, 'labels_test.pickle')\n",
    "with open(path_labels_test, 'rb') as data:\n",
    "    labels_test = pickle.load(data)\n",
    "    \n",
    "with open(path_labels_test, 'rb') as data:\n",
    "    labels_test = pickle.load(data)\n",
    "    \n",
    "path = '..\\\\03. Corr matrix creation\\\\Pickles'\n",
    "\n",
    "with open(join(path, 'vectorizer.pickle'), 'rb') as data:\n",
    "    bof_vectorizer = pickle.load(data)    "
   ]
  },
  {
   "cell_type": "code",
   "execution_count": 10,
   "metadata": {},
   "outputs": [
    {
     "name": "stdout",
     "output_type": "stream",
     "text": [
      "(161, 2000)\n",
      "(18, 2000)\n",
      "(161, 216)\n",
      "(18, 216)\n"
     ]
    }
   ],
   "source": [
    "print(features_train.shape)\n",
    "print(features_test.shape)\n",
    "print(labels_train.shape)\n",
    "print(labels_test.shape)"
   ]
  },
  {
   "cell_type": "code",
   "execution_count": 20,
   "metadata": {},
   "outputs": [],
   "source": [
    "from sklearn.metrics import accuracy_score"
   ]
  },
  {
   "cell_type": "code",
   "execution_count": 27,
   "metadata": {},
   "outputs": [
    {
     "name": "stdout",
     "output_type": "stream",
     "text": [
      "accuracy: 0.9652777777777792\n",
      "min: 0.7222222222222222\n",
      "max: 1.0\n",
      "Wall time: 4min 22s\n"
     ]
    }
   ],
   "source": [
    "%%time\n",
    "directions = bof_vectorizer.get_feature_names()\n",
    "m = labels_train.shape[1]\n",
    "accuracy = 0.\n",
    "rfc_classifiers = []\n",
    "min_accuracy = 1.\n",
    "max_accuracy = 0.\n",
    "for i in range(m):\n",
    "    rfc = RandomForestClassifier(random_state = 8, n_estimators = 400, \n",
    "                                 max_depth=6, min_samples_split=4)\n",
    "    rfc.fit(features_train, labels_train[:,i])\n",
    "    acc = accuracy_score(labels_test[:, i], rfc.predict(features_test))\n",
    "    min_accuracy = min(acc, min_accuracy)\n",
    "    max_accuracy = max(acc, max_accuracy)\n",
    "    accuracy += acc\n",
    "    \n",
    "    rfc_classifiers.append(rfc)\n",
    "    \n",
    "    \n",
    "print('accuracy:', accuracy/m)\n",
    "print('min:', min_accuracy)\n",
    "print('max:', max_accuracy)"
   ]
  },
  {
   "cell_type": "code",
   "execution_count": 33,
   "metadata": {},
   "outputs": [
    {
     "name": "stdout",
     "output_type": "stream",
     "text": [
      "accuracy: 0.9668209876543223\n",
      "min: 0.7222222222222222\n",
      "max: 1.0\n",
      "Wall time: 3.18 s\n"
     ]
    }
   ],
   "source": [
    "%%time\n",
    "directions = bof_vectorizer.get_feature_names()\n",
    "m = labels_train.shape[1]\n",
    "accuracy = 0.\n",
    "svc_classifiers = []\n",
    "min_accuracy = 1.\n",
    "max_accuracy = 0.\n",
    "for i in range(m):\n",
    "    svc = svm.SVC(random_state = 8, C = 0.01, gamma='auto')\n",
    "    svc.fit(features_train, labels_train[:,i])\n",
    "    acc = accuracy_score(labels_test[:, i], svc.predict(features_test))\n",
    "    min_accuracy = min(acc, min_accuracy)\n",
    "    max_accuracy = max(acc, max_accuracy)\n",
    "    accuracy += acc\n",
    "    \n",
    "    svc_classifiers.append(svc)\n",
    "    \n",
    "print('accuracy:', accuracy/m)\n",
    "print('min:', min_accuracy)\n",
    "print('max:', max_accuracy)"
   ]
  },
  {
   "cell_type": "code",
   "execution_count": 34,
   "metadata": {},
   "outputs": [],
   "source": [
    "with open('Pickles/svc_classifiers.pickle', 'wb') as output:\n",
    "    pickle.dump(svc_classifiers, output)\n",
    "    \n",
    "with open('Pickles/rfc_classifiers.pickle', 'wb') as output:\n",
    "    pickle.dump(rfc_classifiers, output)"
   ]
  }
 ],
 "metadata": {
  "kernelspec": {
   "display_name": "Python 3",
   "language": "python",
   "name": "python3"
  },
  "language_info": {
   "codemirror_mode": {
    "name": "ipython",
    "version": 3
   },
   "file_extension": ".py",
   "mimetype": "text/x-python",
   "name": "python",
   "nbconvert_exporter": "python",
   "pygments_lexer": "ipython3",
   "version": "3.7.2"
  }
 },
 "nbformat": 4,
 "nbformat_minor": 2
}
