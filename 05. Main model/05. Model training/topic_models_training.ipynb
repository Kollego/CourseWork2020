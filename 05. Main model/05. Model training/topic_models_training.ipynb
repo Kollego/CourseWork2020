{
 "cells": [
  {
   "cell_type": "code",
   "execution_count": 3,
   "metadata": {},
   "outputs": [],
   "source": [
    "import pickle\n",
    "import numpy as np\n",
    "from os.path import join\n",
    "\n",
    "from sklearn.ensemble import RandomForestClassifier\n",
    "from sklearn import svm\n",
    "\n",
    "from sklearn.metrics import accuracy_score"
   ]
  },
  {
   "cell_type": "code",
   "execution_count": 4,
   "metadata": {},
   "outputs": [],
   "source": [
    "path = '..\\\\04. Feature Engineering\\\\Pickles\\\\'\n",
    "\n",
    "path_features_train = join(path, 'features_train.pickle')\n",
    "\n",
    "with open(path_features_train, 'rb') as data:\n",
    "    features_train = pickle.load(data)\n",
    "\n",
    "\n",
    "path_labels_train = join(path, 'labels_train.pickle')\n",
    "\n",
    "with open(path_labels_train, 'rb') as data:\n",
    "    labels_train = pickle.load(data)\n",
    "\n",
    "    \n",
    "path = '..\\\\03. Corr matrix creation\\\\Pickles'\n",
    "\n",
    "with open(join(path, 'vectorizer.pickle'), 'rb') as data:\n",
    "    bof_vectorizer = pickle.load(data)    "
   ]
  },
  {
   "cell_type": "code",
   "execution_count": 5,
   "metadata": {},
   "outputs": [
    {
     "name": "stdout",
     "output_type": "stream",
     "text": [
      "(179, 2300)\n",
      "(179, 216)\n"
     ]
    }
   ],
   "source": [
    "print(features_train.shape)\n",
    "print(labels_train.shape)"
   ]
  },
  {
   "cell_type": "code",
   "execution_count": 6,
   "metadata": {},
   "outputs": [
    {
     "name": "stdout",
     "output_type": "stream",
     "text": [
      "Wall time: 1min 45s\n"
     ]
    }
   ],
   "source": [
    "%%time\n",
    "directions = bof_vectorizer.get_feature_names()\n",
    "m = labels_train.shape[1]\n",
    "accuracy = 0.\n",
    "rfc_classifiers = []\n",
    "min_accuracy = 1.\n",
    "max_accuracy = 0.\n",
    "for i in range(m):\n",
    "    rfc = RandomForestClassifier(random_state = 8, n_estimators = 400, \n",
    "                                 max_depth=8, min_samples_split=4)\n",
    "    rfc.fit(features_train, labels_train[:,i])    \n",
    "    rfc_classifiers.append(rfc)"
   ]
  },
  {
   "cell_type": "code",
   "execution_count": 7,
   "metadata": {},
   "outputs": [
    {
     "name": "stdout",
     "output_type": "stream",
     "text": [
      "accuracy: 0.0\n",
      "min: 1.0\n",
      "max: 0.0\n",
      "Wall time: 7.06 s\n"
     ]
    }
   ],
   "source": [
    "%%time\n",
    "directions = bof_vectorizer.get_feature_names()\n",
    "m = labels_train.shape[1]\n",
    "accuracy = 0.\n",
    "svc_classifiers = []\n",
    "min_accuracy = 1.\n",
    "max_accuracy = 0.\n",
    "for i in range(m):\n",
    "    svc = svm.SVC(random_state = 8, C = 0.01, gamma='auto', probability=True)\n",
    "    svc.fit(features_train, labels_train[:,i])\n",
    "    \n",
    "    svc_classifiers.append(svc)\n",
    "    \n",
    "print('accuracy:', accuracy/m)\n",
    "print('min:', min_accuracy)\n",
    "print('max:', max_accuracy)"
   ]
  },
  {
   "cell_type": "code",
   "execution_count": 8,
   "metadata": {},
   "outputs": [],
   "source": [
    "with open('Pickles/svc_classifiers.pickle', 'wb') as output:\n",
    "    pickle.dump(svc_classifiers, output)\n",
    "    \n",
    "with open('Pickles/rfc_classifiers.pickle', 'wb') as output:\n",
    "    pickle.dump(rfc_classifiers, output)"
   ]
  }
 ],
 "metadata": {
  "kernelspec": {
   "display_name": "Python 3",
   "language": "python",
   "name": "python3"
  },
  "language_info": {
   "codemirror_mode": {
    "name": "ipython",
    "version": 3
   },
   "file_extension": ".py",
   "mimetype": "text/x-python",
   "name": "python",
   "nbconvert_exporter": "python",
   "pygments_lexer": "ipython3",
   "version": "3.7.2"
  }
 },
 "nbformat": 4,
 "nbformat_minor": 2
}
