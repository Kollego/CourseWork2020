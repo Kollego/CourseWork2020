{
 "cells": [
  {
   "cell_type": "code",
   "execution_count": 1,
   "metadata": {},
   "outputs": [],
   "source": [
    "from os import listdir\n",
    "from os.path import join\n",
    "import json\n",
    "import pandas as pd\n",
    "import pickle\n",
    "import re"
   ]
  },
  {
   "cell_type": "code",
   "execution_count": 2,
   "metadata": {},
   "outputs": [],
   "source": [
    "path = '..\\\\01. Data mining\\\\data'"
   ]
  },
  {
   "cell_type": "markdown",
   "metadata": {},
   "source": [
    "### Creation from many jsons"
   ]
  },
  {
   "cell_type": "code",
   "execution_count": 3,
   "metadata": {},
   "outputs": [],
   "source": [
    "files = listdir(path)\n",
    "rows = []\n",
    "for file in files:\n",
    "    with open(join(path, file), encoding='utf-8') as f:\n",
    "        r = json.load(f)\n",
    "        rows.append(r)\n",
    "\n",
    "df = pd.DataFrame.from_dict(rows, orient='columns')"
   ]
  },
  {
   "cell_type": "code",
   "execution_count": 4,
   "metadata": {},
   "outputs": [
    {
     "data": {
      "text/html": [
       "<div>\n",
       "<style scoped>\n",
       "    .dataframe tbody tr th:only-of-type {\n",
       "        vertical-align: middle;\n",
       "    }\n",
       "\n",
       "    .dataframe tbody tr th {\n",
       "        vertical-align: top;\n",
       "    }\n",
       "\n",
       "    .dataframe thead th {\n",
       "        text-align: right;\n",
       "    }\n",
       "</style>\n",
       "<table border=\"1\" class=\"dataframe\">\n",
       "  <thead>\n",
       "    <tr style=\"text-align: right;\">\n",
       "      <th></th>\n",
       "      <th>topic</th>\n",
       "      <th>text</th>\n",
       "    </tr>\n",
       "  </thead>\n",
       "  <tbody>\n",
       "    <tr>\n",
       "      <th>0</th>\n",
       "      <td>Какой поступок вы назвали бы самым трусливым?</td>\n",
       "      <td>С понятием трусости у меня идет прямая ассоциа...</td>\n",
       "    </tr>\n",
       "    <tr>\n",
       "      <th>1</th>\n",
       "      <td>Почему общество часто не ценит великих людей?</td>\n",
       "      <td>В истории нашей страны существует немало лично...</td>\n",
       "    </tr>\n",
       "    <tr>\n",
       "      <th>2</th>\n",
       "      <td>Какие цели важно ставить на жизненном пути?</td>\n",
       "      <td>Как бы это банально не звучало, но мы живем дл...</td>\n",
       "    </tr>\n",
       "    <tr>\n",
       "      <th>3</th>\n",
       "      <td>Что значит быть отзывчивым?</td>\n",
       "      <td>Отзывчивость – это емкое понятие, вмещающее в ...</td>\n",
       "    </tr>\n",
       "    <tr>\n",
       "      <th>4</th>\n",
       "      <td>Всегда ли хороша верность?</td>\n",
       "      <td>Верность, доверие, любовь, уважение, поддержка...</td>\n",
       "    </tr>\n",
       "  </tbody>\n",
       "</table>\n",
       "</div>"
      ],
      "text/plain": [
       "                                           topic  \\\n",
       "0  Какой поступок вы назвали бы самым трусливым?   \n",
       "1  Почему общество часто не ценит великих людей?   \n",
       "2    Какие цели важно ставить на жизненном пути?   \n",
       "3                    Что значит быть отзывчивым?   \n",
       "4                     Всегда ли хороша верность?   \n",
       "\n",
       "                                                text  \n",
       "0  С понятием трусости у меня идет прямая ассоциа...  \n",
       "1  В истории нашей страны существует немало лично...  \n",
       "2  Как бы это банально не звучало, но мы живем дл...  \n",
       "3  Отзывчивость – это емкое понятие, вмещающее в ...  \n",
       "4  Верность, доверие, любовь, уважение, поддержка...  "
      ]
     },
     "execution_count": 4,
     "metadata": {},
     "output_type": "execute_result"
    }
   ],
   "source": [
    "df.head()"
   ]
  },
  {
   "cell_type": "markdown",
   "metadata": {},
   "source": [
    "### Creation from one txt file"
   ]
  },
  {
   "cell_type": "code",
   "execution_count": 3,
   "metadata": {},
   "outputs": [],
   "source": [
    "rows = []\n",
    "with open(join(path, 'writings_dataset.txt'), 'r', encoding='utf-8') as f:\n",
    "    writings_list = f.read().split('+++')\n",
    "\n",
    "for w in writings_list:\n",
    "    [topic, direction, text] = w.split('***')\n",
    "    topic = re.sub('\\n',' ', topic.strip())\n",
    "    direction = re.sub('\\n',' ', direction.strip())\n",
    "    text = re.sub('\\n',' ', text.strip())\n",
    "    rows.append({'topic':topic, 'direction':direction, 'text':text})\n",
    "    \n",
    "df = pd.DataFrame(rows)"
   ]
  },
  {
   "cell_type": "code",
   "execution_count": 4,
   "metadata": {
    "scrolled": true
   },
   "outputs": [
    {
     "data": {
      "text/html": [
       "<div>\n",
       "<style scoped>\n",
       "    .dataframe tbody tr th:only-of-type {\n",
       "        vertical-align: middle;\n",
       "    }\n",
       "\n",
       "    .dataframe tbody tr th {\n",
       "        vertical-align: top;\n",
       "    }\n",
       "\n",
       "    .dataframe thead th {\n",
       "        text-align: right;\n",
       "    }\n",
       "</style>\n",
       "<table border=\"1\" class=\"dataframe\">\n",
       "  <thead>\n",
       "    <tr style=\"text-align: right;\">\n",
       "      <th></th>\n",
       "      <th>topic</th>\n",
       "      <th>direction</th>\n",
       "      <th>text</th>\n",
       "    </tr>\n",
       "  </thead>\n",
       "  <tbody>\n",
       "    <tr>\n",
       "      <th>0</th>\n",
       "      <td>Какой поступок вы назвали бы самым трусливым?</td>\n",
       "      <td>трусость характер страх слабость смелость храб...</td>\n",
       "      <td>С понятием трусости у меня идет прямая ассоциа...</td>\n",
       "    </tr>\n",
       "    <tr>\n",
       "      <th>1</th>\n",
       "      <td>Почему общество часто не ценит великих людей?</td>\n",
       "      <td>человек общество признание уважение успех</td>\n",
       "      <td>В истории нашей страны существует немало лично...</td>\n",
       "    </tr>\n",
       "    <tr>\n",
       "      <th>2</th>\n",
       "      <td>Какие цели важно ставить на жизненном пути?</td>\n",
       "      <td>цель жизнь смысл путь задача стремление мечта ...</td>\n",
       "      <td>Как бы это банально не звучало, но мы живем дл...</td>\n",
       "    </tr>\n",
       "    <tr>\n",
       "      <th>3</th>\n",
       "      <td>Что значит быть отзывчивым?</td>\n",
       "      <td>отзывчивость чувство доброта чуткость помощь д...</td>\n",
       "      <td>Отзывчивость – это емкое понятие, вмещающее в ...</td>\n",
       "    </tr>\n",
       "    <tr>\n",
       "      <th>4</th>\n",
       "      <td>Всегда ли хороша верность?</td>\n",
       "      <td>преданность любовь доверие дружба надёжность д...</td>\n",
       "      <td>Верность, доверие, любовь, уважение, поддержка...</td>\n",
       "    </tr>\n",
       "  </tbody>\n",
       "</table>\n",
       "</div>"
      ],
      "text/plain": [
       "                                           topic  \\\n",
       "0  Какой поступок вы назвали бы самым трусливым?   \n",
       "1  Почему общество часто не ценит великих людей?   \n",
       "2    Какие цели важно ставить на жизненном пути?   \n",
       "3                    Что значит быть отзывчивым?   \n",
       "4                     Всегда ли хороша верность?   \n",
       "\n",
       "                                           direction  \\\n",
       "0  трусость характер страх слабость смелость храб...   \n",
       "1          человек общество признание уважение успех   \n",
       "2  цель жизнь смысл путь задача стремление мечта ...   \n",
       "3  отзывчивость чувство доброта чуткость помощь д...   \n",
       "4  преданность любовь доверие дружба надёжность д...   \n",
       "\n",
       "                                                text  \n",
       "0  С понятием трусости у меня идет прямая ассоциа...  \n",
       "1  В истории нашей страны существует немало лично...  \n",
       "2  Как бы это банально не звучало, но мы живем дл...  \n",
       "3  Отзывчивость – это емкое понятие, вмещающее в ...  \n",
       "4  Верность, доверие, любовь, уважение, поддержка...  "
      ]
     },
     "execution_count": 4,
     "metadata": {},
     "output_type": "execute_result"
    }
   ],
   "source": [
    "df.to_csv(join(path, 'dataset.csv'), encoding='utf-8', sep=';')\n",
    "df.head()"
   ]
  },
  {
   "cell_type": "code",
   "execution_count": 5,
   "metadata": {},
   "outputs": [],
   "source": [
    "with open('df.pickle', 'wb') as output:\n",
    "    pickle.dump(df, output)"
   ]
  }
 ],
 "metadata": {
  "kernelspec": {
   "display_name": "Python 3",
   "language": "python",
   "name": "python3"
  },
  "language_info": {
   "codemirror_mode": {
    "name": "ipython",
    "version": 3
   },
   "file_extension": ".py",
   "mimetype": "text/x-python",
   "name": "python",
   "nbconvert_exporter": "python",
   "pygments_lexer": "ipython3",
   "version": "3.7.2"
  }
 },
 "nbformat": 4,
 "nbformat_minor": 2
}
