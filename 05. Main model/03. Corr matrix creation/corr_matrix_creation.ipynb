{
 "cells": [
  {
   "cell_type": "code",
   "execution_count": 20,
   "metadata": {},
   "outputs": [],
   "source": [
    "import json\n",
    "from natasha import NamesExtractor\n",
    "import re\n",
    "import numpy as np\n",
    "import pickle"
   ]
  },
  {
   "cell_type": "code",
   "execution_count": 21,
   "metadata": {},
   "outputs": [],
   "source": [
    "path_df = '..\\\\02. Data creation\\\\df.pickle'"
   ]
  },
  {
   "cell_type": "code",
   "execution_count": 22,
   "metadata": {},
   "outputs": [],
   "source": [
    "with open(path_df, 'rb') as data:\n",
    "    df = pickle.load(data)"
   ]
  },
  {
   "cell_type": "code",
   "execution_count": 23,
   "metadata": {},
   "outputs": [
    {
     "data": {
      "text/html": [
       "<div>\n",
       "<style scoped>\n",
       "    .dataframe tbody tr th:only-of-type {\n",
       "        vertical-align: middle;\n",
       "    }\n",
       "\n",
       "    .dataframe tbody tr th {\n",
       "        vertical-align: top;\n",
       "    }\n",
       "\n",
       "    .dataframe thead th {\n",
       "        text-align: right;\n",
       "    }\n",
       "</style>\n",
       "<table border=\"1\" class=\"dataframe\">\n",
       "  <thead>\n",
       "    <tr style=\"text-align: right;\">\n",
       "      <th></th>\n",
       "      <th>topic</th>\n",
       "      <th>direction</th>\n",
       "      <th>text</th>\n",
       "    </tr>\n",
       "  </thead>\n",
       "  <tbody>\n",
       "    <tr>\n",
       "      <th>0</th>\n",
       "      <td>Какой поступок вы назвали бы самым трусливым?</td>\n",
       "      <td>трусость характер страх слабость смелость храб...</td>\n",
       "      <td>С понятием трусости у меня идет прямая ассоциа...</td>\n",
       "    </tr>\n",
       "    <tr>\n",
       "      <th>1</th>\n",
       "      <td>Почему общество часто не ценит великих людей?</td>\n",
       "      <td>человек общество признание уважение успех</td>\n",
       "      <td>В истории нашей страны существует немало лично...</td>\n",
       "    </tr>\n",
       "    <tr>\n",
       "      <th>2</th>\n",
       "      <td>Какие цели важно ставить на жизненном пути?</td>\n",
       "      <td>цель жизнь смысл путь задача стремление мечта ...</td>\n",
       "      <td>Как бы это банально не звучало, но мы живем дл...</td>\n",
       "    </tr>\n",
       "    <tr>\n",
       "      <th>3</th>\n",
       "      <td>Что значит быть отзывчивым?</td>\n",
       "      <td>отзывчивость чувство доброта чуткость помощь д...</td>\n",
       "      <td>Отзывчивость – это емкое понятие, вмещающее в ...</td>\n",
       "    </tr>\n",
       "    <tr>\n",
       "      <th>4</th>\n",
       "      <td>Всегда ли хороша верность?</td>\n",
       "      <td>преданность любовь доверие дружба надёжность д...</td>\n",
       "      <td>Верность, доверие, любовь, уважение, поддержка...</td>\n",
       "    </tr>\n",
       "  </tbody>\n",
       "</table>\n",
       "</div>"
      ],
      "text/plain": [
       "                                           topic  \\\n",
       "0  Какой поступок вы назвали бы самым трусливым?   \n",
       "1  Почему общество часто не ценит великих людей?   \n",
       "2    Какие цели важно ставить на жизненном пути?   \n",
       "3                    Что значит быть отзывчивым?   \n",
       "4                     Всегда ли хороша верность?   \n",
       "\n",
       "                                           direction  \\\n",
       "0  трусость характер страх слабость смелость храб...   \n",
       "1          человек общество признание уважение успех   \n",
       "2  цель жизнь смысл путь задача стремление мечта ...   \n",
       "3  отзывчивость чувство доброта чуткость помощь д...   \n",
       "4  преданность любовь доверие дружба надёжность д...   \n",
       "\n",
       "                                                text  \n",
       "0  С понятием трусости у меня идет прямая ассоциа...  \n",
       "1  В истории нашей страны существует немало лично...  \n",
       "2  Как бы это банально не звучало, но мы живем дл...  \n",
       "3  Отзывчивость – это емкое понятие, вмещающее в ...  \n",
       "4  Верность, доверие, любовь, уважение, поддержка...  "
      ]
     },
     "execution_count": 23,
     "metadata": {},
     "output_type": "execute_result"
    }
   ],
   "source": [
    "df.head()"
   ]
  },
  {
   "cell_type": "markdown",
   "metadata": {},
   "source": [
    "### Создадим Bag of Words для именованных сущностей"
   ]
  },
  {
   "cell_type": "code",
   "execution_count": 24,
   "metadata": {},
   "outputs": [],
   "source": [
    "# Функция расчета схожести строк по коэффициенту Жаккара\n",
    "def dist_jaccard(string1, string2):\n",
    "    \n",
    "    str1 = string1\n",
    "    str2= string2\n",
    "    a = len(str1)\n",
    "    b = len(str2)\n",
    "    c = 0\n",
    "    \n",
    "    while str1 != '':\n",
    "        \n",
    "        s = str1[0]\n",
    "        r = re.compile(s)\n",
    "        c += min(len(r.findall(str1)), len(r.findall(str2)))\n",
    "        str1 = r.sub('', str1)\n",
    "        str2 = r.sub('', str2)\n",
    "        \n",
    "    return c / (a + b - c)\n",
    "\n",
    "# Сравнение двух именованных сущностей\n",
    "def compare_str(str1, str2):\n",
    "    s1 = str1.split()\n",
    "    s2 = str2.split()\n",
    "    if len(s1) < len(s2):\n",
    "        s1, s2 = s2, s1\n",
    "    n = len(s1)\n",
    "    m = len(s2)\n",
    "    result = False\n",
    "    b1 = re.search('[\\\"](.+)[\\\"]', str1)\n",
    "    b2 = re.search('[\\\"](.+)[\\\"]', str2)\n",
    "    if b1 is not None and b2 is not None:\n",
    "        if b1.group(1) == b2.group(1):\n",
    "            return True\n",
    "        else:\n",
    "            return False\n",
    "    elif b1 is not None or b2 is not None:\n",
    "        return False\n",
    "    if n == 3:\n",
    "        if m == 3:\n",
    "            if s1[0] == s2[0] and s1[1] == s2[1] and s1[2] == s2[2]:\n",
    "                result = True\n",
    "            elif s1[0][0] == s2[0][0] and s1[1][0] == s2[1][0] and s1[2] == s2[2] and (len(s1[0]) == 1 or len(s2[0]) == 1):\n",
    "                result = True\n",
    "        elif m == 2:\n",
    "            if s1[0] == s2[0] and s1[2] == s2[1]:\n",
    "                result = True\n",
    "            elif s1[0][0] == s2[0][0] and s1[2] == s2[1] and (len(s1[0]) == 1 or len(s2[0]) == 1):\n",
    "                result = True\n",
    "        else:\n",
    "            if s1[2] == s2[0]:\n",
    "                result = True\n",
    "    elif n == 2:\n",
    "        if m == 2:\n",
    "            if s1[0] == s2[0] and s1[1] == s2[1]:\n",
    "                result = True\n",
    "            elif s1[0][0] == s2[0][0] and s1[1] == s2[1] and (len(s1[0]) == 1 or len(s2[0]) == 1):\n",
    "                result = True\n",
    "        else:\n",
    "            if s1[1] == s2[0]:\n",
    "                result = True\n",
    "    elif n == 1:\n",
    "        if s1[0] == s2[0]:\n",
    "            result = True\n",
    "    elif dist_jaccard(str1, str2) >= 0.9:\n",
    "        result = True\n",
    "    else:\n",
    "        result = False\n",
    "    \n",
    "    return result\n",
    "\n",
    "# Функция создания set`а групп именованных сущностей в тексте \n",
    "# (группа - одинаковый named entity, но по-разному написанный)\n",
    "def make_groups(names):\n",
    "    \n",
    "    n = len(names)\n",
    "    groups = np.array([-1] * n)\n",
    "    gr = 1\n",
    "    \n",
    "    for i in range(n):\n",
    "        \n",
    "        j = i + 1\n",
    "        \n",
    "        while j != n:\n",
    "            \n",
    "            if compare_str(names[i], names[j]):\n",
    "                if groups[i] == -1 and groups[j] == -1:\n",
    "                    groups[i] = gr\n",
    "                    groups[j] = gr\n",
    "                    gr += 1\n",
    "                elif groups[i] == -1:\n",
    "                    groups[i] = groups[j]\n",
    "                elif groups[j] == -1:\n",
    "                    groups[j] = groups[i]\n",
    "                elif groups[i] != groups[j]:\n",
    "                    groups[np.where(groups == groups[j])] = groups[i]\n",
    "                    \n",
    "            j += 1\n",
    "            \n",
    "    for i in range(n):\n",
    "        \n",
    "        if groups[i] == -1:\n",
    "            groups[i] = gr\n",
    "            gr += 1\n",
    "    \n",
    "    set_of_groups = set(groups)\n",
    "    result = []\n",
    "    for group in set_of_groups:\n",
    "        res_group = []\n",
    "        indeces = np.where(groups == group)[0]\n",
    "        for i in indeces:\n",
    "            res_group.append(names[i])\n",
    "        result.append(res_group)\n",
    "    \n",
    "    return result\n",
    "\n",
    "# Функция выделения именованных сущностей из текста и распределения их по группам\n",
    "def extract_names(text):\n",
    "    \n",
    "    extractor = NamesExtractor()\n",
    "    matches = extractor(text)\n",
    "    result = []\n",
    "    pattern = re.compile('[\\\"\\«\\“](.+)[\\\"\\»\\”]')\n",
    "    \n",
    "    for match in matches:\n",
    "        \n",
    "        name = []\n",
    "        \n",
    "        if match.fact.first != None:\n",
    "                name.append(match.fact.first)\n",
    "        if match.fact.middle != None:\n",
    "                name.append(match.fact.middle)\n",
    "        if match.fact.last != None:\n",
    "                name.append(match.fact.last)\n",
    "                \n",
    "        name = ' '.join(name).lower()\n",
    "        result.append(name)\n",
    "        \n",
    "        start, stop = match.span\n",
    "        text_to_find_book = text[max(start-75, 0):min(stop+75, len(text))]\n",
    "        res_regexp = pattern.search(text_to_find_book)\n",
    "        if res_regexp is not None:\n",
    "            book = name + ' \\\"' + res_regexp.group(1) + '\\\"'\n",
    "            result.append(book)\n",
    "        \n",
    "    return make_groups(result)\n",
    "\n",
    "# Функция сравнения двух групп именовааных сущностей\n",
    "def compare_groups(group1, group2):\n",
    "    \n",
    "    for el1 in group1:\n",
    "        for el2 in group2:\n",
    "            if compare_str(el1, el2):\n",
    "                return True\n",
    "    return False\n",
    "\n",
    "\n",
    "# Функция создания матрицы: строки - тексты, столбцы - именованные сущности (а точнее группы)\n",
    "def make_named_enteties_matrix(df):\n",
    "    \n",
    "    groups_in_matrix = np.array([])\n",
    "    text_group_pairs = []\n",
    "    n = len(df)\n",
    "    \n",
    "    \n",
    "    for i in range(n):\n",
    "        \n",
    "        groups_in_text = extract_names(df.loc[i]['text'])\n",
    "        \n",
    "        for group_in_text in groups_in_text:\n",
    "            \n",
    "            is_group_found = False\n",
    "            m = len(groups_in_matrix)\n",
    "            \n",
    "            for j in range(m):\n",
    "                \n",
    "                if compare_groups(group_in_text, groups_in_matrix[j]):\n",
    "                \n",
    "                    groups_in_matrix[j] = groups_in_matrix[j].union(set(group_in_text))\n",
    "                    text_group_pairs.append((i,j))\n",
    "                    is_group_found = True\n",
    "                    break\n",
    "                    \n",
    "            if not is_group_found:\n",
    "                groups_in_matrix = np.append(groups_in_matrix, set(group_in_text))\n",
    "                text_group_pairs.append((i,m))\n",
    "        \n",
    "    m = len(groups_in_matrix)    \n",
    "    matrix = np.zeros((n,m))\n",
    "    \n",
    "    for el in text_group_pairs:\n",
    "        matrix[el] = 1\n",
    "    \n",
    "    columns = []\n",
    "    for i in range(m):\n",
    "        if np.sum(matrix[:,i]) > 1:\n",
    "            columns.append(i)\n",
    "    \n",
    "    return matrix[:,columns], groups_in_matrix[columns]"
   ]
  },
  {
   "cell_type": "code",
   "execution_count": 25,
   "metadata": {},
   "outputs": [
    {
     "name": "stdout",
     "output_type": "stream",
     "text": [
      "[{'швабрин', 'алексей швабрин', 'алексей иванович швабрин'}\n",
      " {'гринев', 'пётр гринев'} {'онегин', 'евгений онегин'}\n",
      " {'пушкин \"Евгений Онегин\"', 'александр сергеевич пушкин \"Евгений Онегин\"', 'татьяна \"Евгений Онегин\"', 'евгений \"Евгений Онегин\"', 'евгений онегин \"Евгений Онегин\"'}\n",
      " {'евгений'}\n",
      " {'алексей швабрин \"Капитанская дочка\"', 'пётр гринев \"Капитанская дочка\"', 'швабрин \"Капитанская дочка\"', 'маша миронова \"Капитанская дочка\"', 'емельян пугачев \"Капитанская дочка\"', 'алексей иванович швабрин \"Капитанская дочка\"', 'пётр гринёв \"Капитанская дочка\"'}\n",
      " {'пётр'} {'пугачев', 'емельян пугачев'} {'ленский', 'владимир ленский'}\n",
      " {'данко'}]\n",
      "Wall time: 1min 13s\n"
     ]
    }
   ],
   "source": [
    "%%time\n",
    "named_entity_matrix, groups_in_matrix = make_named_enteties_matrix(df)\n",
    "print(groups_in_matrix[:10])"
   ]
  },
  {
   "cell_type": "markdown",
   "metadata": {},
   "source": [
    "### Составим матрицу Bag of Words для тем сочинений"
   ]
  },
  {
   "cell_type": "code",
   "execution_count": 26,
   "metadata": {},
   "outputs": [],
   "source": [
    "from sklearn.feature_extraction.text import CountVectorizer"
   ]
  },
  {
   "cell_type": "code",
   "execution_count": 27,
   "metadata": {},
   "outputs": [],
   "source": [
    "vectorizer = CountVectorizer(binary = True, min_df = 0.01)"
   ]
  },
  {
   "cell_type": "code",
   "execution_count": 28,
   "metadata": {},
   "outputs": [
    {
     "name": "stdout",
     "output_type": "stream",
     "text": [
      "(179, 216)\n"
     ]
    }
   ],
   "source": [
    "direction_matrix =  vectorizer.fit_transform(df['direction']).toarray()\n",
    "print(direction_matrix.shape)"
   ]
  },
  {
   "cell_type": "code",
   "execution_count": 29,
   "metadata": {},
   "outputs": [],
   "source": [
    "words_in_directions = vectorizer.get_feature_names()"
   ]
  },
  {
   "cell_type": "markdown",
   "metadata": {},
   "source": [
    "### Составим корреляционную матрицу между *topic_matrix* и *named_entity_matrix* "
   ]
  },
  {
   "cell_type": "code",
   "execution_count": 30,
   "metadata": {},
   "outputs": [],
   "source": [
    "from sklearn.metrics import matthews_corrcoef"
   ]
  },
  {
   "cell_type": "code",
   "execution_count": 31,
   "metadata": {
    "scrolled": true
   },
   "outputs": [
    {
     "name": "stdout",
     "output_type": "stream",
     "text": [
      "(179, 210)\n",
      "(179, 216)\n",
      "(210, 216)\n"
     ]
    }
   ],
   "source": [
    "m = named_entity_matrix.shape[1]\n",
    "k = direction_matrix.shape[1]\n",
    "corr_matrix = np.zeros((m,k))\n",
    "print(named_entity_matrix.shape)\n",
    "print(direction_matrix.shape)\n",
    "print(corr_matrix.shape)"
   ]
  },
  {
   "cell_type": "code",
   "execution_count": 32,
   "metadata": {},
   "outputs": [],
   "source": [
    "for i in range(m):\n",
    "    for j in range(k):\n",
    "        corr_matrix[i,j] = matthews_corrcoef(named_entity_matrix[:,i], direction_matrix[:,j])"
   ]
  },
  {
   "cell_type": "code",
   "execution_count": 33,
   "metadata": {},
   "outputs": [
    {
     "name": "stdout",
     "output_type": "stream",
     "text": [
      "[[-0.0405269  -0.02849448 -0.0405269  ... -0.04544046 -0.02849448\n",
      "   0.13901774]\n",
      " [-0.03049971 -0.02144436 -0.03049971 ... -0.03419756 -0.02144436\n",
      "  -0.02633838]\n",
      " [-0.05362007 -0.0377003  -0.05362007 ... -0.06012109  0.13100854\n",
      "  -0.04630424]\n",
      " ...\n",
      " [-0.01607087 -0.01129944 -0.01607087 ... -0.01801933 -0.01129944\n",
      "   0.40015432]\n",
      " [-0.01607087 -0.01129944 -0.01607087 ... -0.01801933 -0.01129944\n",
      "   0.40015432]\n",
      " [-0.01607087 -0.01129944 -0.01607087 ... -0.01801933 -0.01129944\n",
      "  -0.01387818]]\n"
     ]
    }
   ],
   "source": [
    "print(corr_matrix)"
   ]
  },
  {
   "cell_type": "code",
   "execution_count": 34,
   "metadata": {},
   "outputs": [
    {
     "name": "stdout",
     "output_type": "stream",
     "text": [
      "{'матрена \"Матренин двор\"', 'а и солженицын \"Матренин двор\"', 'александр иванович солженицын \"Матренин двор\"'} отзывчивость\n",
      "{'матрена'} отзывчивость\n",
      "{'сонечка мармеладова'} отзывчивость\n",
      "{'джек лондон \"Мартин Иден\"', 'мартин \"Мартин Иден\"', 'мартин иден \"Мартин Иден\"'} голова\n",
      "{'джек лондон \"Мартин Иден\"', 'мартин \"Мартин Иден\"', 'мартин иден \"Мартин Иден\"'} дар\n",
      "{'мартин'} голова\n",
      "{'мартин'} дар\n",
      "{'мартин иден'} голова\n",
      "{'мартин иден'} дар\n",
      "{'илья ильич'} жильё\n"
     ]
    }
   ],
   "source": [
    "z = 0\n",
    "for i in range(m):\n",
    "    for j in range(k):\n",
    "        if corr_matrix[i,j] >= 0.7:\n",
    "            print(groups_in_matrix[i], words_in_directions[j])\n",
    "            z += 1\n",
    "    if z >= 10:\n",
    "        break"
   ]
  },
  {
   "cell_type": "code",
   "execution_count": 35,
   "metadata": {},
   "outputs": [],
   "source": [
    "with open('Pickles\\\\named_entity_matrix.pickle', 'wb') as output:\n",
    "    pickle.dump(named_entity_matrix, output)\n",
    "    \n",
    "with open('Pickles\\\\groups_in_matrix.pickle', 'wb') as output:\n",
    "    pickle.dump(groups_in_matrix, output)\n",
    "\n",
    "with open('Pickles\\\\vectorizer.pickle', 'wb') as output:\n",
    "    pickle.dump(vectorizer, output)\n",
    "    \n",
    "with open('Pickles\\\\corr_matrix.pickle', 'wb') as output:\n",
    "    pickle.dump(corr_matrix, output)\n",
    "\n",
    "with open('Pickles\\\\direction_matrix.pickle', 'wb') as output:  \n",
    "    pickle.dump(direction_matrix, output)"
   ]
  }
 ],
 "metadata": {
  "kernelspec": {
   "display_name": "Python 3",
   "language": "python",
   "name": "python3"
  },
  "language_info": {
   "codemirror_mode": {
    "name": "ipython",
    "version": 3
   },
   "file_extension": ".py",
   "mimetype": "text/x-python",
   "name": "python",
   "nbconvert_exporter": "python",
   "pygments_lexer": "ipython3",
   "version": "3.7.2"
  }
 },
 "nbformat": 4,
 "nbformat_minor": 2
}
