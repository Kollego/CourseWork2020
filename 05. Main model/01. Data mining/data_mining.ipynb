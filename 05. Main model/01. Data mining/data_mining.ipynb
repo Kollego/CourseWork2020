{
 "cells": [
  {
   "cell_type": "code",
   "execution_count": 63,
   "metadata": {},
   "outputs": [],
   "source": [
    "import json\n",
    "from os import listdir\n",
    "from os.path import join\n",
    "import re"
   ]
  },
  {
   "cell_type": "code",
   "execution_count": 3,
   "metadata": {},
   "outputs": [],
   "source": [
    "def save_writing_to_json(path, writing):\n",
    "    files = listdir(path)\n",
    "    n = 0\n",
    "    for file in files:\n",
    "        with open(join(path, file), encoding='utf-8') as f:\n",
    "            r = json.load(f)\n",
    "            if r['text'] == writing['text']:\n",
    "                return\n",
    "        r = re.compile('writing(\\d+)\\.json')\n",
    "        new_n = int(r.match(file).group(1))\n",
    "        if new_n - n > 1:\n",
    "            break\n",
    "        n = new_n\n",
    "    n += 1\n",
    "    name = 'writing' + str(n).zfill(6) + '.json'\n",
    "    with open(join(path, name), 'w', encoding='utf-8') as output:\n",
    "        json.dump(writing, output, indent=4, ensure_ascii=False)"
   ]
  },
  {
   "cell_type": "code",
   "execution_count": 9,
   "metadata": {},
   "outputs": [],
   "source": [
    "path = 'data'"
   ]
  },
  {
   "cell_type": "markdown",
   "metadata": {},
   "source": [
    "## Сбор данных"
   ]
  },
  {
   "cell_type": "markdown",
   "metadata": {},
   "source": [
    "### по-одному документу "
   ]
  },
  {
   "cell_type": "code",
   "execution_count": 11,
   "metadata": {},
   "outputs": [],
   "source": [
    "topic = '«Память неподвластна времени»'"
   ]
  },
  {
   "cell_type": "code",
   "execution_count": 14,
   "metadata": {},
   "outputs": [],
   "source": [
    "direction = ''"
   ]
  },
  {
   "cell_type": "code",
   "execution_count": 12,
   "metadata": {},
   "outputs": [],
   "source": [
    "text = '''Кто сказал, что время лечит? Многие живут иллюзиями, надеясь на то, что\n",
    "время излечит их раненую душу. Говорят, что со временем боль утихает. Но\n",
    "это всего лишь кажется. Вся правда в том, что ты просто свыкаешься с этой\n",
    "болью. А сердце всё помнит и украдкой сжимается от воспоминаний, не\n",
    "позволяя тебе смириться. Воспоминания заставляют человека вернуться в\n",
    "прошлое. Время проходит, но то, что осталось в памяти, стереть невозможно.\n",
    "Данный вопрос не раз упоминался в художественной литературе.\n",
    "Обратимся к рассказу И. А. Бунина «Тёмные аллеи», который доказывает,\n",
    "что память неподвластна времени. Герои произведения предстают перед\n",
    "нами совсем одинокими. Когда-то они испытывали друг к другу прекрасное\n",
    "чувство. Но Николай Алексеевич предал Надежду, отказавшись от её любви.\n",
    "С тех пор прошло много времени, и теперь каждый живёт своей жизнью. Но\n",
    "любовь героини не умерла, а по-прежнему живёт в её сердце. Но несмотря на\n",
    "долгие годы, прожитые в одиночестве одной лишь любовью, Наталья не\n",
    "смогла забыть ту боль, которую предательски причинил ей тот, мыслям о\n",
    "котором Наталья посвятила свою жизнь. Встретившись с возлюбленным\n",
    "после долгой разлуки, героиня так и не смогла простить Николеньку, потому\n",
    "что её любящее сердце навечно запомнило то, что так сильно оскорбило её.\n",
    "В качестве второго аргумента хочу привести ещё один рассказ Ивана\n",
    "Алексеевича «Холодная осень». В данном произведении основную часть\n",
    "занимает осенний вечер, который оставил свой след в памяти рассказчицы.\n",
    "Тот вечер запомнился ей последними словами, сказанными её\n",
    "возлюбленным: «Ты поживи, порадуйся на свете, потом приходи ко мне…»\n",
    "Героиня горько заплакала, убеждая его в том, что не переживёт его смерти.\n",
    "Но, как оказалось, после его смерти жизнь была возможна. Спустя время\n",
    "героиня многое пережила за свою жизнь, кажущуюся такой долгой, когда\n",
    "перебираешь в памяти все прожитые годы. Вспоминая и задаваясь вопросом\n",
    "о том, что же было в её жизни, героиня вдруг поняла, что все годы были\n",
    "ненужным и непонятным сном. А тот самый холодный вечер – это всё, что\n",
    "было в жизни рассказчицы.\n",
    "В точение времени мы можем потерять что-то ценное или, что остаётся\n",
    "только воспоминаниями. Но именно память – это единственная ценность,\n",
    "которую невозможно потерять или стереть. И именно она заставляет\n",
    "человека на миг вернуться в прошлое, каким бы оно ни было…\n",
    "'''"
   ]
  },
  {
   "cell_type": "code",
   "execution_count": 9,
   "metadata": {},
   "outputs": [],
   "source": [
    "path = 'data'"
   ]
  },
  {
   "cell_type": "code",
   "execution_count": 13,
   "metadata": {},
   "outputs": [],
   "source": [
    "writing = {}\n",
    "writing['topic'] = topic\n",
    "writing ['direction'] = direction\n",
    "writing['text'] = text\n",
    "save_writing_to_json(path, writing)"
   ]
  },
  {
   "cell_type": "markdown",
   "metadata": {},
   "source": [
    "### Парсинг сайтов"
   ]
  },
  {
   "cell_type": "code",
   "execution_count": 62,
   "metadata": {},
   "outputs": [],
   "source": [
    "import requests\n",
    "from bs4 import BeautifulSoup"
   ]
  },
  {
   "cell_type": "markdown",
   "metadata": {},
   "source": [
    "#### сочинение 11"
   ]
  },
  {
   "cell_type": "code",
   "execution_count": 58,
   "metadata": {},
   "outputs": [
    {
     "name": "stdout",
     "output_type": "stream",
     "text": [
      "https://sochinenie11.ru/primeri/435-sochineniya-uchenikov-chast-2.html\n",
      "https://sochinenie11.ru/primeri/434-sochineniya-uchenikov.html\n",
      "https://sochinenie11.ru/primeri/382-10-sochineniy-na-temu-lyubov.html\n",
      "https://sochinenie11.ru/primeri/380-obrazec-sochineniya-po-napravleniyu-god-literatury.html\n",
      "https://sochinenie11.ru/primeri/379-sochineniya-po-3-napravleniyam.html\n",
      "https://sochinenie11.ru/primeri/384-7-sochineniy-na-temu-vremya.html\n",
      "https://sochinenie11.ru/primeri/327-tema-lyubvi.html\n",
      "https://sochinenie11.ru/primeri/326-obrazec-sochineniya-po-napravleniyu-vremya.html\n",
      "https://sochinenie11.ru/primeri/324-obrazec-sochineniya-po-napravleniyu-dom.html\n",
      "https://sochinenie11.ru/primeri/323-obrazec-sochineniya-po-napravleniyu-dom.html\n",
      "https://sochinenie11.ru/primeri/458-5-sochineniy.html\n",
      "https://sochinenie11.ru/primeri/202-sochineniya-po-lermontovu.html\n",
      "https://sochinenie11.ru/primeri/172-5-sochineniy.html\n",
      "https://sochinenie11.ru/primeri/160-sochineniya-na-otlichno.html\n",
      "https://sochinenie11.ru/primeri/158-sochineniya-na-svobodnye-temy.html\n",
      "https://sochinenie11.ru/primeri/111-5-primerov-sochineniy-po-lermontovu.html\n",
      "https://sochinenie11.ru/primeri/159-luchshie-sochineniya-dlya-shkolnikov.html\n",
      "https://sochinenie11.ru/primeri/190-4-primera-sochineniy.html\n",
      "https://sochinenie11.ru/primeri/96-primery-sochineniy.html\n",
      "https://sochinenie11.ru/primeri/300-sochineniya-po-5-napravleniyam.html\n"
     ]
    }
   ],
   "source": [
    "page_url = 'https://sochinenie11.ru/primeri/'\n",
    "writings_list = []\n",
    "\n",
    "for i in range(8):\n",
    "    i = i + 1\n",
    "    response = requests.get(page_url)\n",
    "    page_tree = BeautifulSoup(response.content, 'html.parser')\n",
    "    subpages_url = [subpage.find('a')['href'] for subpage in page_tree.find_all('h2', {'class' : 'ssil'})]\n",
    "    for sp_url in subpages_url:\n",
    "        response = requests.get(sp_url)\n",
    "        subpage_tree = BeautifulSoup(response.content, 'html.parser')\n",
    "        if subpage_tree.find('span', {'class' : 'attachment'}):\n",
    "            pass\n",
    "        else:\n",
    "            topic = subpage_tree.find('h1', {'class' : 'ssil11'}).text\n",
    "            text = subpage_tree.find('div', {'class' : 'otstup'}).text\n",
    "            writings_list.append('\\n---\\n***\\n'.join([topic,text]))\n",
    "    if i != 8:\n",
    "        page_url = page_tree.find('a', {'class':'button215'})['href']"
   ]
  },
  {
   "cell_type": "code",
   "execution_count": 59,
   "metadata": {},
   "outputs": [
    {
     "data": {
      "text/plain": [
       "59"
      ]
     },
     "execution_count": 59,
     "metadata": {},
     "output_type": "execute_result"
    }
   ],
   "source": [
    "len(writings_list)"
   ]
  },
  {
   "cell_type": "code",
   "execution_count": null,
   "metadata": {},
   "outputs": [],
   "source": [
    "for writing in writings_list:\n",
    "    save_writing_to_json(path, writing)"
   ]
  },
  {
   "cell_type": "code",
   "execution_count": 61,
   "metadata": {},
   "outputs": [],
   "source": [
    "with open('writings.txt', 'w', encoding='utf-8') as f:\n",
    "    f.write('\\n+++\\n'.join(writings_list))"
   ]
  },
  {
   "cell_type": "markdown",
   "metadata": {},
   "source": [
    "#### rus tutors"
   ]
  },
  {
   "cell_type": "code",
   "execution_count": 104,
   "metadata": {},
   "outputs": [],
   "source": [
    "url = 'https://rustutors.ru/primersoch/primersochitog/'\n",
    "response = requests.get(url)\n",
    "page_tree = BeautifulSoup(response.content, 'html.parser')\n",
    "writing_list_2 = []\n",
    "for page in page_tree.find('section', {'id':'content'}).find_all('a'):\n",
    "    page_url = page['href']\n",
    "    if re.search('user',page_url):\n",
    "        break\n",
    "    response = requests.get(page_url)\n",
    "    writing_tree = BeautifulSoup(response.content, 'html.parser')\n",
    "    if re.search('rustutors', page_url):\n",
    "        div_text = writing_tree.find('div', {'class':'text'})\n",
    "        direction_tree =  div_text.find('a')\n",
    "        direction = ''\n",
    "        if direction_tree is not None:\n",
    "            direction = direction_tree.text\n",
    "        topic = ' '.join(t.text for t in div_text.find_all('span', {'style':'color:rgb(184,49,47);'}))\n",
    "        text = re.sub('(ДРУГИЕ)?(ПРИМЕРЫ ИТОГОВЫХ СОЧИНЕНИЙ)?(Примеры итоговых сочинений)?\\s*(Примеры сочинений  \\/ Итоговое сочинение - примеры)?(Итоговое сочинение - примеры. \\/ Рекомендуем)?\\.\\s+\\d+\\s+\\w+\\s+\\d+\\s+', \n",
    "                      '', div_text.text)\n",
    "        writing = '\\n---\\n'.join([topic, direction])\n",
    "        writing = '\\n***\\n'.join([writing, text])\n",
    "        writing_list_2.append(writing)\n",
    "    else:\n",
    "        div_text = writing_tree.find('div', {'class':'text'})\n",
    "        topic = ''\n",
    "        for c in div_text.find_all('span'):\n",
    "                    topic += c.text + ' '\n",
    "        text = div_text.text\n",
    "        writing = '\\n---\\n\\n***\\n'.join([topic,text])\n",
    "        writing_list_2.append(writing)\n",
    "        "
   ]
  },
  {
   "cell_type": "code",
   "execution_count": 105,
   "metadata": {},
   "outputs": [],
   "source": [
    "with open('writings2.txt', 'w', encoding='utf-8') as f:\n",
    "    f.write('\\n+++\\n'.join(writing_list_2))"
   ]
  }
 ],
 "metadata": {
  "kernelspec": {
   "display_name": "Python 3",
   "language": "python",
   "name": "python3"
  },
  "language_info": {
   "codemirror_mode": {
    "name": "ipython",
    "version": 3
   },
   "file_extension": ".py",
   "mimetype": "text/x-python",
   "name": "python",
   "nbconvert_exporter": "python",
   "pygments_lexer": "ipython3",
   "version": "3.7.2"
  }
 },
 "nbformat": 4,
 "nbformat_minor": 2
}
