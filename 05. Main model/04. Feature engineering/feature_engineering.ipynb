{
 "cells": [
  {
   "cell_type": "code",
   "execution_count": 6,
   "metadata": {},
   "outputs": [],
   "source": [
    "import pickle\n",
    "import numpy as np\n",
    "from os.path import join\n"
   ]
  },
  {
   "cell_type": "code",
   "execution_count": 4,
   "metadata": {},
   "outputs": [],
   "source": [
    "path = '..\\\\03. Corr matrix creation'\n",
    "\n",
    "with open(join(path, 'df_parsed.pickle'), 'rb') as data:\n",
    "    df = pickle.load(data)\n",
    "          \n",
    "with open(join(path, 'named_entity_matrix.pickle'), 'rb') as data:\n",
    "    named_entity_matrix = pickle.load(data)  \n",
    "          \n",
    "with open(join(path, 'groups_in_matrix.pickle'), 'rb') as data:\n",
    "    groups_in_matrix = pickle.load(data)    \n",
    "    \n",
    "with open(join(path, 'vectorizer.pickle'), 'rb') as data:\n",
    "    vectorizer = pickle.load(data)    "
   ]
  },
  {
   "cell_type": "code",
   "execution_count": 9,
   "metadata": {},
   "outputs": [
    {
     "data": {
      "text/html": [
       "<div>\n",
       "<style scoped>\n",
       "    .dataframe tbody tr th:only-of-type {\n",
       "        vertical-align: middle;\n",
       "    }\n",
       "\n",
       "    .dataframe tbody tr th {\n",
       "        vertical-align: top;\n",
       "    }\n",
       "\n",
       "    .dataframe thead th {\n",
       "        text-align: right;\n",
       "    }\n",
       "</style>\n",
       "<table border=\"1\" class=\"dataframe\">\n",
       "  <thead>\n",
       "    <tr style=\"text-align: right;\">\n",
       "      <th></th>\n",
       "      <th>topic</th>\n",
       "      <th>text</th>\n",
       "      <th>topic_parsed</th>\n",
       "      <th>is_good_text</th>\n",
       "    </tr>\n",
       "  </thead>\n",
       "  <tbody>\n",
       "    <tr>\n",
       "      <th>0</th>\n",
       "      <td>Какой поступок вы назвали бы самым трусливым?</td>\n",
       "      <td>С понятием трусости у меня идет прямая ассоциа...</td>\n",
       "      <td>какой поступок назвать самый трусливый</td>\n",
       "      <td>1</td>\n",
       "    </tr>\n",
       "    <tr>\n",
       "      <th>1</th>\n",
       "      <td>Почему общество часто не ценит великих людей?</td>\n",
       "      <td>В истории нашей страны существует немало лично...</td>\n",
       "      <td>почему общество часто ценить великое человек</td>\n",
       "      <td>1</td>\n",
       "    </tr>\n",
       "    <tr>\n",
       "      <th>2</th>\n",
       "      <td>Какие цели важно ставить на жизненном пути?</td>\n",
       "      <td>Как бы это банально не звучало, но мы живем дл...</td>\n",
       "      <td>какой цель важный ставить жизненный путь</td>\n",
       "      <td>1</td>\n",
       "    </tr>\n",
       "    <tr>\n",
       "      <th>3</th>\n",
       "      <td>Что значит быть отзывчивым?</td>\n",
       "      <td>Отзывчивость – это емкое понятие, вмещающее в ...</td>\n",
       "      <td>что значит быть отзывчивый</td>\n",
       "      <td>1</td>\n",
       "    </tr>\n",
       "    <tr>\n",
       "      <th>4</th>\n",
       "      <td>Всегда ли хороша верность?</td>\n",
       "      <td>Верность, доверие, любовь, уважение, поддержка...</td>\n",
       "      <td>всегда хороший верность</td>\n",
       "      <td>1</td>\n",
       "    </tr>\n",
       "  </tbody>\n",
       "</table>\n",
       "</div>"
      ],
      "text/plain": [
       "                                           topic  \\\n",
       "0  Какой поступок вы назвали бы самым трусливым?   \n",
       "1  Почему общество часто не ценит великих людей?   \n",
       "2    Какие цели важно ставить на жизненном пути?   \n",
       "3                    Что значит быть отзывчивым?   \n",
       "4                     Всегда ли хороша верность?   \n",
       "\n",
       "                                                text  \\\n",
       "0  С понятием трусости у меня идет прямая ассоциа...   \n",
       "1  В истории нашей страны существует немало лично...   \n",
       "2  Как бы это банально не звучало, но мы живем дл...   \n",
       "3  Отзывчивость – это емкое понятие, вмещающее в ...   \n",
       "4  Верность, доверие, любовь, уважение, поддержка...   \n",
       "\n",
       "                                   topic_parsed  is_good_text  \n",
       "0        какой поступок назвать самый трусливый             1  \n",
       "1  почему общество часто ценить великое человек             1  \n",
       "2      какой цель важный ставить жизненный путь             1  \n",
       "3                    что значит быть отзывчивый             1  \n",
       "4                       всегда хороший верность             1  "
      ]
     },
     "execution_count": 9,
     "metadata": {},
     "output_type": "execute_result"
    }
   ],
   "source": [
    "df['is_good_text'] = np.array([1] * len(df))\n",
    "df.head()"
   ]
  }
 ],
 "metadata": {
  "kernelspec": {
   "display_name": "Python 3",
   "language": "python",
   "name": "python3"
  },
  "language_info": {
   "codemirror_mode": {
    "name": "ipython",
    "version": 3
   },
   "file_extension": ".py",
   "mimetype": "text/x-python",
   "name": "python",
   "nbconvert_exporter": "python",
   "pygments_lexer": "ipython3",
   "version": "3.7.2"
  }
 },
 "nbformat": 4,
 "nbformat_minor": 2
}
