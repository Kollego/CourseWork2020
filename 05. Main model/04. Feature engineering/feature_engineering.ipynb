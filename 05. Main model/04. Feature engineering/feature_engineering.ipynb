{
 "cells": [
  {
   "cell_type": "code",
   "execution_count": 2,
   "metadata": {},
   "outputs": [],
   "source": [
    "import pickle\n",
    "import numpy as np\n",
    "import re\n",
    "from os.path import join\n",
    "import pickle\n",
    "import os\n",
    "import requests\n",
    "from pathlib import Path\n",
    "import nltk\n",
    "from nltk import sent_tokenize, word_tokenize, regexp_tokenize\n",
    "from nltk.corpus import stopwords\n",
    "import pymorphy2\n",
    "from sklearn.model_selection import train_test_split\n",
    "from sklearn.feature_extraction.text import TfidfVectorizer"
   ]
  },
  {
   "cell_type": "code",
   "execution_count": 3,
   "metadata": {},
   "outputs": [],
   "source": [
    "path_df = '..\\\\02. Data creation\\\\df.pickle'\n",
    "\n",
    "with open(path_df, 'rb') as data:\n",
    "    df = pickle.load(data)\n",
    "\n",
    "path = '..\\\\03. Corr matrix creation\\\\Pickles'\n",
    "          \n",
    "with open(join(path, 'named_entity_matrix.pickle'), 'rb') as data:\n",
    "    named_entity_matrix = pickle.load(data)  \n",
    "          \n",
    "with open(join(path, 'groups_in_matrix.pickle'), 'rb') as data:\n",
    "    groups_in_matrix = pickle.load(data)    \n",
    "    \n",
    "with open(join(path, 'vectorizer.pickle'), 'rb') as data:\n",
    "    bof_vectorizer = pickle.load(data)    \n",
    "    \n",
    "with open(join(path, 'corr_matrix.pickle'), 'rb') as data:\n",
    "    corr_matrix = pickle.load(data)    \n",
    "    \n",
    "with open(join(path, 'direction_matrix.pickle'), 'rb') as data:\n",
    "    direction_matrix = pickle.load(data)    "
   ]
  },
  {
   "cell_type": "code",
   "execution_count": 4,
   "metadata": {},
   "outputs": [
    {
     "data": {
      "text/html": [
       "<div>\n",
       "<style scoped>\n",
       "    .dataframe tbody tr th:only-of-type {\n",
       "        vertical-align: middle;\n",
       "    }\n",
       "\n",
       "    .dataframe tbody tr th {\n",
       "        vertical-align: top;\n",
       "    }\n",
       "\n",
       "    .dataframe thead th {\n",
       "        text-align: right;\n",
       "    }\n",
       "</style>\n",
       "<table border=\"1\" class=\"dataframe\">\n",
       "  <thead>\n",
       "    <tr style=\"text-align: right;\">\n",
       "      <th></th>\n",
       "      <th>topic</th>\n",
       "      <th>direction</th>\n",
       "      <th>text</th>\n",
       "    </tr>\n",
       "  </thead>\n",
       "  <tbody>\n",
       "    <tr>\n",
       "      <th>0</th>\n",
       "      <td>Какой поступок вы назвали бы самым трусливым?</td>\n",
       "      <td>трусость характер страх слабость смелость храб...</td>\n",
       "      <td>С понятием трусости у меня идет прямая ассоциа...</td>\n",
       "    </tr>\n",
       "    <tr>\n",
       "      <th>1</th>\n",
       "      <td>Почему общество часто не ценит великих людей?</td>\n",
       "      <td>человек общество признание уважение успех</td>\n",
       "      <td>В истории нашей страны существует немало лично...</td>\n",
       "    </tr>\n",
       "    <tr>\n",
       "      <th>2</th>\n",
       "      <td>Какие цели важно ставить на жизненном пути?</td>\n",
       "      <td>цель жизнь смысл путь задача стремление мечта ...</td>\n",
       "      <td>Как бы это банально не звучало, но мы живем дл...</td>\n",
       "    </tr>\n",
       "    <tr>\n",
       "      <th>3</th>\n",
       "      <td>Что значит быть отзывчивым?</td>\n",
       "      <td>отзывчивость чувство доброта чуткость помощь д...</td>\n",
       "      <td>Отзывчивость – это емкое понятие, вмещающее в ...</td>\n",
       "    </tr>\n",
       "    <tr>\n",
       "      <th>4</th>\n",
       "      <td>Всегда ли хороша верность?</td>\n",
       "      <td>преданность любовь доверие дружба надёжность д...</td>\n",
       "      <td>Верность, доверие, любовь, уважение, поддержка...</td>\n",
       "    </tr>\n",
       "  </tbody>\n",
       "</table>\n",
       "</div>"
      ],
      "text/plain": [
       "                                           topic  \\\n",
       "0  Какой поступок вы назвали бы самым трусливым?   \n",
       "1  Почему общество часто не ценит великих людей?   \n",
       "2    Какие цели важно ставить на жизненном пути?   \n",
       "3                    Что значит быть отзывчивым?   \n",
       "4                     Всегда ли хороша верность?   \n",
       "\n",
       "                                           direction  \\\n",
       "0  трусость характер страх слабость смелость храб...   \n",
       "1          человек общество признание уважение успех   \n",
       "2  цель жизнь смысл путь задача стремление мечта ...   \n",
       "3  отзывчивость чувство доброта чуткость помощь д...   \n",
       "4  преданность любовь доверие дружба надёжность д...   \n",
       "\n",
       "                                                text  \n",
       "0  С понятием трусости у меня идет прямая ассоциа...  \n",
       "1  В истории нашей страны существует немало лично...  \n",
       "2  Как бы это банально не звучало, но мы живем дл...  \n",
       "3  Отзывчивость – это емкое понятие, вмещающее в ...  \n",
       "4  Верность, доверие, любовь, уважение, поддержка...  "
      ]
     },
     "execution_count": 4,
     "metadata": {},
     "output_type": "execute_result"
    }
   ],
   "source": [
    "df.head()"
   ]
  },
  {
   "cell_type": "code",
   "execution_count": 5,
   "metadata": {},
   "outputs": [],
   "source": [
    "url_stopwords_ru = \"https://raw.githubusercontent.com/stopwords-iso/stopwords-ru/master/stopwords-ru.txt\"\n",
    "\n",
    "\n",
    "def get_text(url, encoding='utf-8', to_lower=True):\n",
    "    url = str(url)\n",
    "    if url.startswith('http'):\n",
    "        r = requests.get(url)\n",
    "        if not r.ok:\n",
    "            r.raise_for_status()\n",
    "        return r.text.lower() if to_lower else r.text\n",
    "    elif os.path.exists(url):\n",
    "        with open(url, encoding=encoding) as f:\n",
    "            return f.read().lower() if to_lower else f.read()\n",
    "    else:\n",
    "        raise Exception('parameter [url] can be either URL or a filename')\n",
    "\n",
    "\n",
    "def normalize_tokens(tokens):\n",
    "    morph = pymorphy2.MorphAnalyzer()\n",
    "    return [morph.parse(tok)[0].normal_form for tok in tokens]\n",
    "\n",
    "\n",
    "def remove_stopwords(tokens, stopwords=None, min_length=4):\n",
    "    if not stopwords:\n",
    "        return tokens\n",
    "    stopwords = set(stopwords)\n",
    "    tokens = [tok\n",
    "              for tok in tokens\n",
    "              if tok not in stopwords and len(tok) >= min_length]\n",
    "    return tokens\n",
    "\n",
    "\n",
    "def tokenize_n_lemmatize(text, stopwords=None, normalize=True, regexp=r'(?u)\\b\\w{4,}\\b'):\n",
    "    words = [w for sent in sent_tokenize(text)\n",
    "             for w in regexp_tokenize(sent, regexp)]\n",
    "    if normalize:\n",
    "        words = normalize_tokens(words)\n",
    "    if stopwords:\n",
    "        words = remove_stopwords(words, stopwords)\n",
    "    return words\n",
    "\n",
    "stopwords_ru = get_text(url_stopwords_ru).splitlines()"
   ]
  },
  {
   "cell_type": "code",
   "execution_count": 6,
   "metadata": {},
   "outputs": [],
   "source": [
    "def proc_df(df):\n",
    "    nrows = len(df)\n",
    "    text_parsed_list = []\n",
    "    for row in range(0, nrows):\n",
    "        text = df.loc[row]['text']\n",
    "        text_parsed_list.append(' '.join(tokenize_n_lemmatize(text)))\n",
    "    df['text_parsed'] = text_parsed_list"
   ]
  },
  {
   "cell_type": "code",
   "execution_count": 7,
   "metadata": {},
   "outputs": [
    {
     "name": "stdout",
     "output_type": "stream",
     "text": [
      "Wall time: 20.2 s\n"
     ]
    }
   ],
   "source": [
    "%%time\n",
    "proc_df(df)"
   ]
  },
  {
   "cell_type": "code",
   "execution_count": 8,
   "metadata": {
    "scrolled": false
   },
   "outputs": [
    {
     "data": {
      "text/html": [
       "<div>\n",
       "<style scoped>\n",
       "    .dataframe tbody tr th:only-of-type {\n",
       "        vertical-align: middle;\n",
       "    }\n",
       "\n",
       "    .dataframe tbody tr th {\n",
       "        vertical-align: top;\n",
       "    }\n",
       "\n",
       "    .dataframe thead th {\n",
       "        text-align: right;\n",
       "    }\n",
       "</style>\n",
       "<table border=\"1\" class=\"dataframe\">\n",
       "  <thead>\n",
       "    <tr style=\"text-align: right;\">\n",
       "      <th></th>\n",
       "      <th>topic</th>\n",
       "      <th>direction</th>\n",
       "      <th>text</th>\n",
       "      <th>text_parsed</th>\n",
       "    </tr>\n",
       "  </thead>\n",
       "  <tbody>\n",
       "    <tr>\n",
       "      <th>0</th>\n",
       "      <td>Какой поступок вы назвали бы самым трусливым?</td>\n",
       "      <td>трусость характер страх слабость смелость храб...</td>\n",
       "      <td>С понятием трусости у меня идет прямая ассоциа...</td>\n",
       "      <td>понятие трусость я идти прямая ассоциация тако...</td>\n",
       "    </tr>\n",
       "    <tr>\n",
       "      <th>1</th>\n",
       "      <td>Почему общество часто не ценит великих людей?</td>\n",
       "      <td>человек общество признание уважение успех</td>\n",
       "      <td>В истории нашей страны существует немало лично...</td>\n",
       "      <td>история наш страна существовать немало личност...</td>\n",
       "    </tr>\n",
       "    <tr>\n",
       "      <th>2</th>\n",
       "      <td>Какие цели важно ставить на жизненном пути?</td>\n",
       "      <td>цель жизнь смысл путь задача стремление мечта ...</td>\n",
       "      <td>Как бы это банально не звучало, но мы живем дл...</td>\n",
       "      <td>банально звучать жить тот чтобы наслаждаться ж...</td>\n",
       "    </tr>\n",
       "    <tr>\n",
       "      <th>3</th>\n",
       "      <td>Что значит быть отзывчивым?</td>\n",
       "      <td>отзывчивость чувство доброта чуткость помощь д...</td>\n",
       "      <td>Отзывчивость – это емкое понятие, вмещающее в ...</td>\n",
       "      <td>отзывчивость ёмкий понятие вмещать себя челове...</td>\n",
       "    </tr>\n",
       "    <tr>\n",
       "      <th>4</th>\n",
       "      <td>Всегда ли хороша верность?</td>\n",
       "      <td>преданность любовь доверие дружба надёжность д...</td>\n",
       "      <td>Верность, доверие, любовь, уважение, поддержка...</td>\n",
       "      <td>верность доверие любовь уважение поддержка осн...</td>\n",
       "    </tr>\n",
       "  </tbody>\n",
       "</table>\n",
       "</div>"
      ],
      "text/plain": [
       "                                           topic  \\\n",
       "0  Какой поступок вы назвали бы самым трусливым?   \n",
       "1  Почему общество часто не ценит великих людей?   \n",
       "2    Какие цели важно ставить на жизненном пути?   \n",
       "3                    Что значит быть отзывчивым?   \n",
       "4                     Всегда ли хороша верность?   \n",
       "\n",
       "                                           direction  \\\n",
       "0  трусость характер страх слабость смелость храб...   \n",
       "1          человек общество признание уважение успех   \n",
       "2  цель жизнь смысл путь задача стремление мечта ...   \n",
       "3  отзывчивость чувство доброта чуткость помощь д...   \n",
       "4  преданность любовь доверие дружба надёжность д...   \n",
       "\n",
       "                                                text  \\\n",
       "0  С понятием трусости у меня идет прямая ассоциа...   \n",
       "1  В истории нашей страны существует немало лично...   \n",
       "2  Как бы это банально не звучало, но мы живем дл...   \n",
       "3  Отзывчивость – это емкое понятие, вмещающее в ...   \n",
       "4  Верность, доверие, любовь, уважение, поддержка...   \n",
       "\n",
       "                                         text_parsed  \n",
       "0  понятие трусость я идти прямая ассоциация тако...  \n",
       "1  история наш страна существовать немало личност...  \n",
       "2  банально звучать жить тот чтобы наслаждаться ж...  \n",
       "3  отзывчивость ёмкий понятие вмещать себя челове...  \n",
       "4  верность доверие любовь уважение поддержка осн...  "
      ]
     },
     "execution_count": 8,
     "metadata": {},
     "output_type": "execute_result"
    }
   ],
   "source": [
    "df.head()"
   ]
  },
  {
   "cell_type": "markdown",
   "metadata": {},
   "source": [
    "### Удалим именованные сущности"
   ]
  },
  {
   "cell_type": "code",
   "execution_count": 9,
   "metadata": {},
   "outputs": [],
   "source": [
    "for i in range(len(df)):\n",
    "    text = df.loc[i]['text_parsed']\n",
    "    for j in np.where(named_entity_matrix[i,:] == 1)[0]:\n",
    "        for w in groups_in_matrix[j]:\n",
    "            text = re.sub(w, '', text)\n",
    "    df.loc[i]['text_parsed'] = text"
   ]
  },
  {
   "cell_type": "code",
   "execution_count": 10,
   "metadata": {},
   "outputs": [],
   "source": [
    "X_train = df['text_parsed']\n",
    "y_train = direction_matrix"
   ]
  },
  {
   "cell_type": "markdown",
   "metadata": {},
   "source": [
    "### TF-IDF"
   ]
  },
  {
   "cell_type": "code",
   "execution_count": 11,
   "metadata": {},
   "outputs": [],
   "source": [
    "tfidf = TfidfVectorizer(encoding='utf-8',\n",
    "                        ngram_range=(1,2),\n",
    "                        stop_words=None,\n",
    "                        lowercase=False,\n",
    "                        max_df=1.,\n",
    "                        min_df=5,\n",
    "                        norm='l2',\n",
    "                        max_features = 2300,\n",
    "                        sublinear_tf=True)"
   ]
  },
  {
   "cell_type": "code",
   "execution_count": 12,
   "metadata": {},
   "outputs": [
    {
     "name": "stdout",
     "output_type": "stream",
     "text": [
      "(179, 2300)\n"
     ]
    }
   ],
   "source": [
    "features_train = tfidf.fit_transform(X_train).toarray()\n",
    "labels_train = y_train\n",
    "print(features_train.shape)"
   ]
  },
  {
   "cell_type": "markdown",
   "metadata": {},
   "source": [
    "### Data exploration\n"
   ]
  },
  {
   "cell_type": "code",
   "execution_count": 18,
   "metadata": {},
   "outputs": [],
   "source": [
    "from sklearn.decomposition import TruncatedSVD\n",
    "import matplotlib.pyplot as plt"
   ]
  },
  {
   "cell_type": "code",
   "execution_count": 33,
   "metadata": {},
   "outputs": [],
   "source": [
    "Z = TruncatedSVD(n_components=3).fit_transform(features_train)[:, 1:]"
   ]
  },
  {
   "cell_type": "code",
   "execution_count": 46,
   "metadata": {},
   "outputs": [
    {
     "data": {
      "image/png": "[encoded data removed]",
      "text/plain": [
       "<Figure size 720x576 with 1 Axes>"
      ]
     },
     "metadata": {
      "needs_background": "light"
     },
     "output_type": "display_data"
    },
    {
     "data": {
      "image/png": "[encoded data removed]",
      "text/plain": [
       "<Figure size 720x576 with 1 Axes>"
      ]
     },
     "metadata": {
      "needs_background": "light"
     },
     "output_type": "display_data"
    }
   ],
   "source": [
    "for i in range(direction_matrix.shape[1]):\n",
    "    if bof_vectorizer.get_feature_names()[i] in ['интеллект', 'добро']:\n",
    "        fig, ax = plt.subplots()\n",
    "        fig.set_size_inches(10, 8)\n",
    "        plt.title(bof_vectorizer.get_feature_names()[i])\n",
    "        idx_1 = np.where(direction_matrix[:,i] == 1)\n",
    "        idx_0 = np.where(direction_matrix[:,i] == 0)\n",
    "        plt.scatter(Z[idx_1, 0], Z[idx_1, 1], s=30, c='r', marker=\"o\", label='1')\n",
    "        plt.scatter(Z[idx_0, 0], Z[idx_0, 1], s=20, c='b', marker=\"o\", label='0')\n",
    "        plt.ylabel('y')\n",
    "        plt.xlabel('x')\n",
    "        ax.legend()\n",
    "        plt.show()"
   ]
  },
  {
   "cell_type": "markdown",
   "metadata": {},
   "source": [
    "### Проверим корреляцию слов и тем"
   ]
  },
  {
   "cell_type": "code",
   "execution_count": 22,
   "metadata": {},
   "outputs": [
    {
     "name": "stdout",
     "output_type": "stream",
     "text": [
      "# 'безразличие' category:\n",
      "  . Most correlated unigrams: замечать; энергичный; безразличный; равнодушный; равнодушие\n",
      "  . Most correlated bigrams: если быть; максим максим\n",
      "\n",
      "# 'безысходность' category:\n",
      "  . Most correlated unigrams: процентщица; раскольник; тупик; вечность; пространство\n",
      "  . Most correlated bigrams: сила который; старуха процентщица\n",
      "\n",
      "# 'бесконечность' category:\n",
      "  . Most correlated unigrams: дьявол; остановить; мастер; мера; былой\n",
      "  . Most correlated bigrams: потерять свой; любимый человек\n",
      "\n",
      "# 'бескорыстие' category:\n",
      "  . Most correlated unigrams: бросать; свойство; рассказчик; верность; забота\n",
      "  . Most correlated bigrams: добрый человек; человек являться\n",
      "\n",
      "# 'бескорыстность' category:\n",
      "  . Most correlated unigrams: бросать; свойство; рассказчик; верность; забота\n",
      "  . Most correlated bigrams: добрый человек; человек являться\n",
      "\n",
      "# 'бессилие' category:\n",
      "  . Most correlated unigrams: придавать; пространство; выход; предпринять; складываться\n",
      "  . Most correlated bigrams: мочь привести; себя такой\n",
      "\n"
     ]
    }
   ],
   "source": [
    "from sklearn.feature_selection import chi2\n",
    "\n",
    "words = bof_vectorizer.get_feature_names()\n",
    "for i in range(direction_matrix.shape[1]):\n",
    "    features_chi2 = chi2(features_train, labels_train[:,i])\n",
    "    indices = np.argsort(features_chi2[0])\n",
    "    feature_names = np.array(tfidf.get_feature_names())[indices]\n",
    "    unigrams = [v for v in feature_names if len(v.split(' ')) == 1]\n",
    "    bigrams = [v for v in feature_names if len(v.split(' ')) == 2]\n",
    "    print(\"# '{}' category:\".format(words[i]))\n",
    "    print(\"  . Most correlated unigrams: {}\".format('; '.join(unigrams[-5:])))\n",
    "    print(\"  . Most correlated bigrams: {}\".format('; '.join(bigrams[-2:])))\n",
    "    print(\"\")\n",
    "    if i == 5:\n",
    "        break"
   ]
  },
  {
   "cell_type": "code",
   "execution_count": 23,
   "metadata": {},
   "outputs": [],
   "source": [
    "# df parsed\n",
    "with open('Pickles/df_parsed.pickle', 'wb') as output:\n",
    "    pickle.dump(df, output)\n",
    "    \n",
    "# features_train\n",
    "with open('Pickles/features_train.pickle', 'wb') as output:\n",
    "    pickle.dump(features_train, output)\n",
    "\n",
    "# labels_train\n",
    "with open('Pickles/labels_train.pickle', 'wb') as output:\n",
    "    pickle.dump(labels_train, output)\n",
    "\n",
    "# TF-IDF object\n",
    "with open('Pickles/tfidf.pickle', 'wb') as output:\n",
    "    pickle.dump(tfidf, output)"
   ]
  }
 ],
 "metadata": {
  "kernelspec": {
   "display_name": "Python 3",
   "language": "python",
   "name": "python3"
  },
  "language_info": {
   "codemirror_mode": {
    "name": "ipython",
    "version": 3
   },
   "file_extension": ".py",
   "mimetype": "text/x-python",
   "name": "python",
   "nbconvert_exporter": "python",
   "pygments_lexer": "ipython3",
   "version": "3.7.2"
  }
 },
 "nbformat": 4,
 "nbformat_minor": 2
}
